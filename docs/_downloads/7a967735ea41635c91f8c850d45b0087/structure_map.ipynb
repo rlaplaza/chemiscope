{
  "cells": [
    {
      "cell_type": "markdown",
      "metadata": {},
      "source": [
        "\n# Structure-property maps\n\nThis example demonstrates the visualization of structures (or environments) using\ndata-driven descriptors of their geometry, to cluster together similar motifs. Here the\ngeometric descriptors have been computed by PCA starting from SOAP representations, but\nare provided as text files to avoid external dependencies for the example.\n\nThe same parameters can be used with `chemiscope.show` to visualize an interactive\nwidget in a Jupyter notebook.\n"
      ]
    },
    {
      "cell_type": "code",
      "execution_count": null,
      "metadata": {
        "collapsed": false
      },
      "outputs": [],
      "source": [
        "import ase.io\nimport numpy as np\n\nimport chemiscope"
      ]
    },
    {
      "cell_type": "markdown",
      "metadata": {},
      "source": [
        "Load structures\n\n"
      ]
    },
    {
      "cell_type": "code",
      "execution_count": null,
      "metadata": {
        "collapsed": false
      },
      "outputs": [],
      "source": [
        "frames = ase.io.read(\"data/trajectory.xyz\", \":\")"
      ]
    },
    {
      "cell_type": "markdown",
      "metadata": {},
      "source": [
        "Load the SOAP-PCA descriptors. chemiscope does not provide\nanalysis routines (yet), but you can look up for instance\nscikit-matter as a package to do dimensionality reduction\nanalyses.\n\n"
      ]
    },
    {
      "cell_type": "code",
      "execution_count": null,
      "metadata": {
        "collapsed": false
      },
      "outputs": [],
      "source": [
        "pca_atom = np.loadtxt(\"data/trajectory-pca_atom.dat\")\npca_struc = np.loadtxt(\"data/trajectory-pca_structure.dat\")"
      ]
    },
    {
      "cell_type": "markdown",
      "metadata": {},
      "source": [
        "When both environments and structure property are present\nonly environment properties are shown. Still they can be stored,\nand future versions of chemiscope may allow switching between\nthe two modes.\n\nNB: if there are properties stored in the ASE frames, you can extract\n    them with chemiscope.extract_properties(frames)\n\n"
      ]
    },
    {
      "cell_type": "code",
      "execution_count": null,
      "metadata": {
        "collapsed": false
      },
      "outputs": [],
      "source": [
        "properties = {\n    # concise definition of a property, with just an array and the type\n    # inferred by the size\n    \"structure PCA\": pca_struc,\n    \"atom PCA\": pca_atom,\n    # an example of the verbose definition\n    \"energy\": {\n        \"target\": \"structure\",\n        \"values\": [frame.info[\"energy\"] for frame in frames],\n        \"units\": \"eV\",\n        \"description\": \"potential energy, computed with DFTB+\",\n    },\n}"
      ]
    },
    {
      "cell_type": "markdown",
      "metadata": {},
      "source": [
        "Environment descriptors have only been computed for C and O atoms.\nwe use a mask and then a utility function to generate the proper\nlist of environments\n\n"
      ]
    },
    {
      "cell_type": "code",
      "execution_count": null,
      "metadata": {
        "collapsed": false
      },
      "outputs": [],
      "source": [
        "for frame in frames:\n    frame_mask = np.zeros(len(frame))\n    frame_mask[np.where((frame.numbers == 6) | (frame.numbers == 8))[0]] = 1\n    frame.arrays[\"center_atoms_mask\"] = frame_mask\n\nenvironments = chemiscope.librascal_atomic_environments(frames, cutoff=4.0)"
      ]
    },
    {
      "cell_type": "markdown",
      "metadata": {},
      "source": [
        "Create a visualization and save it as a file that can be viewed at chemiscope.org\n\n"
      ]
    },
    {
      "cell_type": "code",
      "execution_count": null,
      "metadata": {
        "collapsed": false
      },
      "outputs": [],
      "source": [
        "chemiscope.write_input(\n    \"trajectory-pca.json.gz\",\n    # dataset metadata can also be included, to provide a self-contained description\n    # of the data, authors and references\n    meta={\n        \"name\": \"Allyl alcohol PCA map\",\n        \"description\": (\n            \"This dataset contains a PCA map of the C and O environments \"\n            \"from a few frames out of a MD simulation of allyl alcohol, C3H5OH.\"\n        ),\n        \"authors\": [\"The chemiscope developers\"],\n        \"references\": [\n            (\n                \"G. Fraux, R. Cersonsky, and M. Ceriotti, \"\n                '\"Chemiscope: interactive structure-property explorer for materials '\n                'and molecules,\" JOSS 5(51), 2117 (2020).'\n            )\n        ],\n    },\n    frames=frames,\n    properties=properties,\n    environments=environments,\n    settings={  # these are reasonable settings for trajectory visualization\n        \"structure\": [{\"keepOrientation\": True, \"playbackDelay\": 100}]\n    },\n)"
      ]
    },
    {
      "cell_type": "markdown",
      "metadata": {},
      "source": [
        "The file can also be viewed in a notebook. Use `chemiscope.show` above to bypass the\ncreation of a JSON file and directly create a viewer.\n\n"
      ]
    },
    {
      "cell_type": "code",
      "execution_count": null,
      "metadata": {
        "collapsed": false
      },
      "outputs": [],
      "source": [
        "chemiscope.show_input(\"trajectory-pca.json.gz\")"
      ]
    }
  ],
  "metadata": {
    "kernelspec": {
      "display_name": "Python 3",
      "language": "python",
      "name": "python3"
    },
    "language_info": {
      "codemirror_mode": {
        "name": "ipython",
        "version": 3
      },
      "file_extension": ".py",
      "mimetype": "text/x-python",
      "name": "python",
      "nbconvert_exporter": "python",
      "pygments_lexer": "ipython3",
      "version": "3.10.14"
    }
  },
  "nbformat": 4,
  "nbformat_minor": 0
}